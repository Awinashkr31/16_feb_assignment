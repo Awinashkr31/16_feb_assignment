{
 "cells": [
  {
   "cell_type": "code",
   "execution_count": 1,
   "id": "69b8161e-e888-4d60-93b8-c3d09d45a60d",
   "metadata": {},
   "outputs": [],
   "source": [
    "#Q1. What is a database? Differentiate between SQL and NoSQL databases."
   ]
  },
  {
   "cell_type": "code",
   "execution_count": 2,
   "id": "c087a39a-2eaa-48d3-b6ca-41a20d0b5a1a",
   "metadata": {},
   "outputs": [
    {
     "data": {
      "text/plain": [
       "' SQL databases are relational databases that store data in tables, with each table consisting of rows and columns. They use\\n    SQL as the language for interacting with the database. SQL databases are highly structured and are ideal for handling \\n    structured data with predefined schemas. They are widely used in applications that require data consistency and ACID\\n    (Atomicity, Consistency, Isolation, and Durability) compliance. Some popular SQL databases are MySQL, Oracle, and Microsoft \\n    SQL Server.\\n\\n    NoSQL databases, on the other hand, are non-relational databases that store data in a variety of formats, including key-value\\n    stores, document stores, column-family stores, and graph databases. They are designed to handle unstructured or \\n    semi-structured data with flexible schemas. NoSQL databases are highly scalable and can handle large amounts of data and \\n    traffic, making them ideal for applications that require high scalability and availability. Some popular NoSQL databases are\\n    MongoDB, Cassandra, and Couchbase. '"
      ]
     },
     "execution_count": 2,
     "metadata": {},
     "output_type": "execute_result"
    }
   ],
   "source": [
    "\"\"\" SQL databases are relational databases that store data in tables, with each table consisting of rows and columns. They use\n",
    "    SQL as the language for interacting with the database. SQL databases are highly structured and are ideal for handling \n",
    "    structured data with predefined schemas. They are widely used in applications that require data consistency and ACID\n",
    "    (Atomicity, Consistency, Isolation, and Durability) compliance. Some popular SQL databases are MySQL, Oracle, and Microsoft \n",
    "    SQL Server.\n",
    "\n",
    "    NoSQL databases, on the other hand, are non-relational databases that store data in a variety of formats, including key-value\n",
    "    stores, document stores, column-family stores, and graph databases. They are designed to handle unstructured or \n",
    "    semi-structured data with flexible schemas. NoSQL databases are highly scalable and can handle large amounts of data and \n",
    "    traffic, making them ideal for applications that require high scalability and availability. Some popular NoSQL databases are\n",
    "    MongoDB, Cassandra, and Couchbase. \"\"\""
   ]
  },
  {
   "cell_type": "code",
   "execution_count": 3,
   "id": "76fb5c1e-5b7c-4fc0-a59d-e16d0941c1d7",
   "metadata": {},
   "outputs": [],
   "source": [
    "#Q2. What is DDL? Explain why CREATE, DROP, ALTER, and TRUNCATE are used with an example."
   ]
  },
  {
   "cell_type": "code",
   "execution_count": 1,
   "id": "314aea6c-013f-4f9f-8bef-2dcbee66f314",
   "metadata": {},
   "outputs": [
    {
     "data": {
      "text/plain": [
       "' DDL stands for Data Definition Language, and it refers to a set of SQL commands used to define and manipulate the \\n    structure of database objects such as tables, views, indexes, and constraints. Here\\'s a brief explanation of each of the DDL\\n    commands and their use cases:\\n    \\n1.  CREATE: The CREATE command is used to create a new database object, such as a table or view. For example, to create a new \\n    table called \"customers\" with columns for customer ID, name, and email, you would use the following SQL code: \\n    \\nCREATE TABLE customers (\\n  id INT PRIMARY KEY,\\n  name VARCHAR(50),\\n  email VARCHAR(50)\\n);\\n\\n2. DROP: The DROP command is used to delete an existing database object. For example, to delete the \"customers\" table, you would \\n   use the following SQL code:\\n   \\nDROP TABLE customers;\\n3. ALTER: The ALTER command is used to modify the structure of an existing database object. For example, to add a new column \\n    called \"phone\" to the \"customers\" table, you would use the following SQL code:\\n\\nALTER TABLE customers\\nADD phone VARCHAR(20);\\n\\n4. TRUNCATE: The TRUNCATE command is used to remove all data from a table while keeping the table structure intact. For example,\\n    to remove all data from the \"customers\" table, you would use the following SQL code:\\n    \\nTRUNCATE TABLE customers;\\n'"
      ]
     },
     "execution_count": 1,
     "metadata": {},
     "output_type": "execute_result"
    }
   ],
   "source": [
    "\"\"\" DDL stands for Data Definition Language, and it refers to a set of SQL commands used to define and manipulate the \n",
    "    structure of database objects such as tables, views, indexes, and constraints. Here's a brief explanation of each of the DDL\n",
    "    commands and their use cases:\n",
    "    \n",
    "1.  CREATE: The CREATE command is used to create a new database object, such as a table or view. For example, to create a new \n",
    "    table called \"customers\" with columns for customer ID, name, and email, you would use the following SQL code: \n",
    "    \n",
    "CREATE TABLE customers (\n",
    "  id INT PRIMARY KEY,\n",
    "  name VARCHAR(50),\n",
    "  email VARCHAR(50)\n",
    ");\n",
    "\n",
    "2. DROP: The DROP command is used to delete an existing database object. For example, to delete the \"customers\" table, you would \n",
    "   use the following SQL code:\n",
    "   \n",
    "DROP TABLE customers;\n",
    "3. ALTER: The ALTER command is used to modify the structure of an existing database object. For example, to add a new column \n",
    "    called \"phone\" to the \"customers\" table, you would use the following SQL code:\n",
    "\n",
    "ALTER TABLE customers\n",
    "ADD phone VARCHAR(20);\n",
    "\n",
    "4. TRUNCATE: The TRUNCATE command is used to remove all data from a table while keeping the table structure intact. For example,\n",
    "    to remove all data from the \"customers\" table, you would use the following SQL code:\n",
    "    \n",
    "TRUNCATE TABLE customers;\n",
    "\"\"\""
   ]
  },
  {
   "cell_type": "code",
   "execution_count": 2,
   "id": "d222fc2f-4eb5-4814-8bee-24e31fde527a",
   "metadata": {},
   "outputs": [],
   "source": [
    "# Q3. What is DML? Explain INSERT, UPDATE, and DELETE with an example."
   ]
  },
  {
   "cell_type": "code",
   "execution_count": 4,
   "id": "1c974be2-9db8-4250-886d-4877a5c5c7e0",
   "metadata": {},
   "outputs": [
    {
     "data": {
      "text/plain": [
       "' DML stands for Data Manipulation Language, and it refers to a set of SQL commands used to manipulate the data stored \\n    in a database. \\n\\n\\n1. INSERT: The INSERT command is used to add new data to a database table. For example, to insert a new record into the\\n    \"customers\" table with customer ID of 123, name of John Doe, and email of john.doe@example.com, you would use the following\\n    SQL code:\\n\\n```\\nINSERT INTO customers (id, name, email)\\nVALUES (123, \\'Awinash\\', \\'awi@gmail.com\\');\\n```\\n\\n2. UPDATE: The UPDATE command is used to modify existing data in a database table. For example, to update the email address of \\n    the customer with ID 123 to john_doe@example.com, you would use the following SQL code:\\n\\n```\\nUPDATE customers\\nSET email = \\'Awinash@gmail.com.com\\'\\nWHERE id = 123;\\n```\\n\\n3. DELETE: The DELETE command is used to remove data from a database table. For example, to delete the record for the customer \\n    with ID 123, you would use the following SQL code:\\n\\n```\\nDELETE FROM customers\\nWHERE id = 123;    '"
      ]
     },
     "execution_count": 4,
     "metadata": {},
     "output_type": "execute_result"
    }
   ],
   "source": [
    "\"\"\" DML stands for Data Manipulation Language, and it refers to a set of SQL commands used to manipulate the data stored \n",
    "    in a database. \n",
    "\n",
    "\n",
    "1. INSERT: The INSERT command is used to add new data to a database table. For example, to insert a new record into the\n",
    "    \"customers\" table with customer ID of 123, name of John Doe, and email of john.doe@example.com, you would use the following\n",
    "    SQL code:\n",
    "\n",
    "```\n",
    "INSERT INTO customers (id, name, email)\n",
    "VALUES (123, 'Awinash', 'awi@gmail.com');\n",
    "```\n",
    "\n",
    "2. UPDATE: The UPDATE command is used to modify existing data in a database table. For example, to update the email address of \n",
    "    the customer with ID 123 to john_doe@example.com, you would use the following SQL code:\n",
    "\n",
    "```\n",
    "UPDATE customers\n",
    "SET email = 'Awinash@gmail.com.com'\n",
    "WHERE id = 123;\n",
    "```\n",
    "\n",
    "3. DELETE: The DELETE command is used to remove data from a database table. For example, to delete the record for the customer \n",
    "    with ID 123, you would use the following SQL code:\n",
    "\n",
    "```\n",
    "DELETE FROM customers\n",
    "WHERE id = 123;    \"\"\""
   ]
  },
  {
   "cell_type": "code",
   "execution_count": 5,
   "id": "c6e21dd8-0d81-4924-baff-cc2e909c1a89",
   "metadata": {},
   "outputs": [],
   "source": [
    "#Q4. What is DQL? Explain SELECT with an example."
   ]
  },
  {
   "cell_type": "code",
   "execution_count": 8,
   "id": "033ac251-f0f0-42b1-a5da-e44e18cbba0a",
   "metadata": {},
   "outputs": [
    {
     "data": {
      "text/plain": [
       "'\\n1. SELECT: The SELECT command is used to retrieve data from one or more tables in a database. It is used with various clauses\\n    such as WHERE, GROUP BY, ORDER BY, and JOIN to filter, sort, and group data as per the requirement. For example, to retrieve \\n    all data from the \"customers\" table, you would use the following SQL code:\\n\\n```\\nSELECT * FROM customers;\\n```\\n\\nThe * sign here means all the columns of the table. If you want to retrieve only specific columns, you can list them explicitly\\nlike this:\\n\\n```\\nSELECT id, name, email FROM customers;\\n```\\n\\n    You can also use the WHERE clause to filter data based on specific conditions. For example, to retrieve only the records where\\n    the customer\\'s name is \\'John Doe\\', you would use the following SQL code:\\n\\n```\\nSELECT * FROM customers\\nWHERE name = \\'John Doe\\'; '"
      ]
     },
     "execution_count": 8,
     "metadata": {},
     "output_type": "execute_result"
    }
   ],
   "source": [
    "\"\"\" DQL stands for Data Query Language, and it refers to a set of SQL commands used to retrieve data from a database.\"\"\"\n",
    "\"\"\"\n",
    "1. SELECT: The SELECT command is used to retrieve data from one or more tables in a database. It is used with various clauses\n",
    "    such as WHERE, GROUP BY, ORDER BY, and JOIN to filter, sort, and group data as per the requirement. For example, to retrieve \n",
    "    all data from the \"customers\" table, you would use the following SQL code:\n",
    "\n",
    "```\n",
    "SELECT * FROM customers;\n",
    "```\n",
    "\n",
    "The * sign here means all the columns of the table. If you want to retrieve only specific columns, you can list them explicitly\n",
    "like this:\n",
    "\n",
    "```\n",
    "SELECT id, name, email FROM customers;\n",
    "```\n",
    "\n",
    "    You can also use the WHERE clause to filter data based on specific conditions. For example, to retrieve only the records where\n",
    "    the customer's name is 'John Doe', you would use the following SQL code:\n",
    "\n",
    "```\n",
    "SELECT * FROM customers\n",
    "WHERE name = 'John Doe'; \"\"\""
   ]
  },
  {
   "cell_type": "code",
   "execution_count": 9,
   "id": "5e0b37d4-b31b-4a06-b273-44d44ae3a429",
   "metadata": {},
   "outputs": [],
   "source": [
    "#Q5. Explain Primary Key and Foreign Key."
   ]
  },
  {
   "cell_type": "code",
   "execution_count": 12,
   "id": "37a68a2c-3353-40ee-bf7c-5b91dc8bbe8f",
   "metadata": {},
   "outputs": [
    {
     "data": {
      "text/plain": [
       "' Primary Key:\\nA Primary key is a column or a set of columns that uniquely identifies each row in a table. It is used to ensure that each row\\nin a table has a unique identifier and that it can be accessed quickly and efficiently. The primary key constraint ensures that\\nthe primary key column(s) cannot contain null values, and no two rows can have the same value in the primary key column(s). In \\nmost cases, the primary key is created using an auto-incrementing integer column, but it can also be created using a combination\\nof columns.\\n\\nForeign Key:\\nA foreign key is a column or a set of columns that references the primary key of another table. It is used to establish a\\nrelationship between two tables and ensure data integrity by enforcing referential integrity rules. A foreign key constraint \\nensures that the values in the foreign key column(s) of one table match the values in the primary key column(s) of the other table,\\nor are null. In other words, it ensures that the data in the child table matches the data in the parent table. '"
      ]
     },
     "execution_count": 12,
     "metadata": {},
     "output_type": "execute_result"
    }
   ],
   "source": [
    "\"\"\" Primary Key:\n",
    "A Primary key is a column or a set of columns that uniquely identifies each row in a table. It is used to ensure that each row\n",
    "in a table has a unique identifier and that it can be accessed quickly and efficiently. The primary key constraint ensures that\n",
    "the primary key column(s) cannot contain null values, and no two rows can have the same value in the primary key column(s). In \n",
    "most cases, the primary key is created using an auto-incrementing integer column, but it can also be created using a combination\n",
    "of columns.\n",
    "\n",
    "Foreign Key:\n",
    "A foreign key is a column or a set of columns that references the primary key of another table. It is used to establish a\n",
    "relationship between two tables and ensure data integrity by enforcing referential integrity rules. A foreign key constraint \n",
    "ensures that the values in the foreign key column(s) of one table match the values in the primary key column(s) of the other table,\n",
    "or are null. In other words, it ensures that the data in the child table matches the data in the parent table. \"\"\""
   ]
  },
  {
   "cell_type": "code",
   "execution_count": 10,
   "id": "f40711e8-b77d-48b8-87d5-61a24d025b07",
   "metadata": {},
   "outputs": [],
   "source": [
    "#Q6. Write a python code to connect MySQL to python. Explain the cursor() and execute() method."
   ]
  },
  {
   "cell_type": "code",
   "execution_count": 14,
   "id": "5a78a709-f7c3-4500-bf35-e9b58f6b9faa",
   "metadata": {},
   "outputs": [
    {
     "data": {
      "text/plain": [
       "'\\nimport mysql.connector\\nmydb = mysql.connector.connect(\\n  host=\"localhost\",\\n  user=\"abc\",\\n  password=\"password\"\\n)\\nmycursor = mydb.cursor()\\nmycursor.execute(\"CREATE DATABASE if not exists test2\")\\nmydb.close()\\n\\n\\nThe cursor object is used to execute queries and fetch results. We use the execute() method of the cursor object to execute a SQL\\nquery (in this case, a simple SELECT statement that retrieves all rows from the \"customers\" table), and the fetchall() method to \\nretrieve all rows returned by the query.\\n\\nFinally, we iterate through the rows returned by the query and print each row.\\n\\nThe execute() method is used to execute a single SQL statement, such as a SELECT, INSERT, UPDATE, or DELETE statement. \\nThe cursor() method creates a cursor object that can be used to execute SQL statements and fetch results. The cursor object \\nis used to execute queries and fetch results.\\n'"
      ]
     },
     "execution_count": 14,
     "metadata": {},
     "output_type": "execute_result"
    }
   ],
   "source": [
    "\"\"\"\n",
    "import mysql.connector\n",
    "mydb = mysql.connector.connect(\n",
    "  host=\"localhost\",\n",
    "  user=\"abc\",\n",
    "  password=\"password\"\n",
    ")\n",
    "mycursor = mydb.cursor()\n",
    "mycursor.execute(\"CREATE DATABASE if not exists test2\")\n",
    "mydb.close()\n",
    "\n",
    "\n",
    "The cursor object is used to execute queries and fetch results. We use the execute() method of the cursor object to execute a SQL\n",
    "query (in this case, a simple SELECT statement that retrieves all rows from the \"customers\" table), and the fetchall() method to \n",
    "retrieve all rows returned by the query.\n",
    "\n",
    "Finally, we iterate through the rows returned by the query and print each row.\n",
    "\n",
    "The execute() method is used to execute a single SQL statement, such as a SELECT, INSERT, UPDATE, or DELETE statement. \n",
    "The cursor() method creates a cursor object that can be used to execute SQL statements and fetch results. The cursor object \n",
    "is used to execute queries and fetch results.\n",
    "\"\"\""
   ]
  },
  {
   "cell_type": "code",
   "execution_count": 11,
   "id": "5b6745bb-256d-4927-8c0a-3e65e013b110",
   "metadata": {},
   "outputs": [],
   "source": [
    "#Q7. Give the order of execution of SQL clauses in an SQL query."
   ]
  },
  {
   "cell_type": "code",
   "execution_count": null,
   "id": "6a23556a-e258-47dd-9329-f108330b4601",
   "metadata": {},
   "outputs": [],
   "source": [
    "\"\"\" The order of execution of SQL clauses in an SQL query is as follows:\n",
    "\n",
    "1. FROM: The FROM clause specifies the table or tables from which the data will be retrieved.\n",
    "\n",
    "2. WHERE: The WHERE clause is used to filter the data based on specific conditions. It is used to select only those rows that meet the specified criteria.\n",
    "\n",
    "3. GROUP BY: The GROUP BY clause is used to group the data based on one or more columns. It is typically used with aggregate functions like COUNT, SUM, AVG, etc.\n",
    "\n",
    "4. HAVING: The HAVING clause is used to filter the data based on the results of an aggregate function. It is similar to the WHERE clause but is used with aggregate functions.\n",
    "\n",
    "5. SELECT: The SELECT clause is used to specify the columns that will be included in the result set.\n",
    "\n",
    "6. ORDER BY: The ORDER BY clause is used to sort the data based on one or more columns. It can sort the data in ascending or descending order.\n",
    "\n",
    "7. LIMIT: The LIMIT clause is used to limit the number of rows returned by the query.\n",
    "\n",
    "It's important to note that not all clauses are required in every query, and some clauses can be omitted or combined with others depending on the requirements of the query."
   ]
  }
 ],
 "metadata": {
  "kernelspec": {
   "display_name": "Python 3 (ipykernel)",
   "language": "python",
   "name": "python3"
  },
  "language_info": {
   "codemirror_mode": {
    "name": "ipython",
    "version": 3
   },
   "file_extension": ".py",
   "mimetype": "text/x-python",
   "name": "python",
   "nbconvert_exporter": "python",
   "pygments_lexer": "ipython3",
   "version": "3.10.8"
  }
 },
 "nbformat": 4,
 "nbformat_minor": 5
}
